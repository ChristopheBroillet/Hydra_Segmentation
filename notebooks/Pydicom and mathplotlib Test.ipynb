{
 "cells": [
  {
   "cell_type": "markdown",
   "id": "150c400a",
   "metadata": {},
   "source": [
    "# Test Notebook with pydicom"
   ]
  },
  {
   "cell_type": "code",
   "execution_count": 1,
   "id": "e5d091ba",
   "metadata": {},
   "outputs": [],
   "source": [
    "%matplotlib inline\n",
    "import pydicom\n",
    "import IPython\n",
    "import os\n",
    "import matplotlib.pyplot as plt\n",
    "import numpy as np"
   ]
  },
  {
   "cell_type": "code",
   "execution_count": 3,
   "id": "6ea3689b",
   "metadata": {},
   "outputs": [
    {
     "name": "stdout",
     "output_type": "stream",
     "text": [
      "['Image-12.dcm', 'Image-15.dcm', 'Image-32.dcm', 'Image-25.dcm', 'Image-5.dcm', 'Image-23.dcm', 'Image-6.dcm', 'Image-30.dcm', 'Image-34.dcm', 'Image-26.dcm', 'Image-3.dcm', 'Image-2.dcm', 'Image-28.dcm', 'Image-22.dcm', 'Image-1.dcm', 'Image-21.dcm', 'Image-27.dcm', 'Image-9.dcm', 'Image-11.dcm', 'Image-31.dcm', 'Image-16.dcm', 'Image-13.dcm', 'Image-4.dcm', 'Image-24.dcm', 'Image-7.dcm', 'Image-20.dcm', 'Image-8.dcm', 'Image-10.dcm', 'Image-19.dcm', 'Image-17.dcm', 'Image-18.dcm', 'Image-29.dcm', 'Image-14.dcm', 'Image-33.dcm']\n"
     ]
    }
   ],
   "source": [
    "#take an abitrary dicom\n",
    "path_to_serie = \"/home/christophe/Desktop/DataSet/410735-000002/Study-MR-20130810T080848-1643/Ax T2 strict\"\n",
    "\n",
    "print(os.listdir(path_to_serie))\n",
    "path_to_dicom = os.path.join(path_to_serie, 'Image-12.dcm')"
   ]
  },
  {
   "cell_type": "code",
   "execution_count": 4,
   "id": "ecd3a478",
   "metadata": {},
   "outputs": [
    {
     "data": {
      "text/plain": [
       "['AccessionNumber',\n",
       " 'AcquisitionDate',\n",
       " 'AcquisitionMatrix',\n",
       " 'AcquisitionNumber',\n",
       " 'AcquisitionTime',\n",
       " 'AngioFlag',\n",
       " 'BeatRejectionFlag',\n",
       " 'BitsAllocated',\n",
       " 'BitsStored',\n",
       " 'BodyPartExamined',\n",
       " 'CardiacNumberOfImages',\n",
       " 'Columns',\n",
       " 'ContentDate',\n",
       " 'ContentTime',\n",
       " 'DeidentificationMethod',\n",
       " 'DeidentificationMethodCodeSequence',\n",
       " 'EchoNumbers',\n",
       " 'EchoTime',\n",
       " 'EchoTrainLength',\n",
       " 'FlipAngle',\n",
       " 'FrameOfReferenceUID',\n",
       " 'HeartRate',\n",
       " 'HighBit',\n",
       " 'ImageOrientationPatient',\n",
       " 'ImagePositionPatient',\n",
       " 'ImageType',\n",
       " 'ImagedNucleus',\n",
       " 'ImagesInAcquisition',\n",
       " 'ImagingFrequency',\n",
       " 'InPlanePhaseEncodingDirection',\n",
       " 'InStackPositionNumber',\n",
       " 'InstanceNumber',\n",
       " 'LargestImagePixelValue',\n",
       " 'Laterality',\n",
       " 'MRAcquisitionType',\n",
       " 'MagneticFieldStrength',\n",
       " 'Manufacturer',\n",
       " 'ManufacturerModelName',\n",
       " 'Modality',\n",
       " 'NumberOfAverages',\n",
       " 'PatientAge',\n",
       " 'PatientID',\n",
       " 'PatientName',\n",
       " 'PatientPosition',\n",
       " 'PatientSex',\n",
       " 'PatientWeight',\n",
       " 'PercentPhaseFieldOfView',\n",
       " 'PercentSampling',\n",
       " 'PhotometricInterpretation',\n",
       " 'PixelBandwidth',\n",
       " 'PixelData',\n",
       " 'PixelRepresentation',\n",
       " 'PixelSpacing',\n",
       " 'PositionReferenceIndicator',\n",
       " 'ReceiveCoilName',\n",
       " 'ReconstructionDiameter',\n",
       " 'RepetitionTime',\n",
       " 'Rows',\n",
       " 'SAR',\n",
       " 'SOPClassUID',\n",
       " 'SOPInstanceUID',\n",
       " 'SamplesPerPixel',\n",
       " 'ScanOptions',\n",
       " 'ScanningSequence',\n",
       " 'SequenceVariant',\n",
       " 'SeriesDate',\n",
       " 'SeriesDescription',\n",
       " 'SeriesInstanceUID',\n",
       " 'SeriesNumber',\n",
       " 'SeriesTime',\n",
       " 'SliceLocation',\n",
       " 'SliceThickness',\n",
       " 'SmallestImagePixelValue',\n",
       " 'SoftwareVersions',\n",
       " 'SpacingBetweenSlices',\n",
       " 'SpecificCharacterSet',\n",
       " 'StackID',\n",
       " 'StudyDate',\n",
       " 'StudyDescription',\n",
       " 'StudyID',\n",
       " 'StudyInstanceUID',\n",
       " 'StudyTime',\n",
       " 'TriggerWindow',\n",
       " 'VariableFlipAngleFlag',\n",
       " 'WindowCenter',\n",
       " 'WindowWidth']"
      ]
     },
     "execution_count": 4,
     "metadata": {},
     "output_type": "execute_result"
    }
   ],
   "source": [
    "#load a dicom\n",
    "ds = pydicom.dcmread(path_to_dicom)\n",
    "\n",
    "#see all the attributes for the dicom\n",
    "ds.dir()"
   ]
  },
  {
   "cell_type": "code",
   "execution_count": 5,
   "id": "4c1ecb11",
   "metadata": {},
   "outputs": [
    {
     "data": {
      "text/plain": [
       "Dataset.file_meta -------------------------------\n",
       "(0002, 0000) File Meta Information Group Length  UL: 168\n",
       "(0002, 0001) File Meta Information Version       OB: b'\\x00\\x01'\n",
       "(0002, 0002) Media Storage SOP Class UID         UI: MR Image Storage\n",
       "(0002, 0003) Media Storage SOP Instance UID      UI: 1.2.826.0.1.3680043.10.474.410735.10\n",
       "(0002, 0010) Transfer Syntax UID                 UI: Explicit VR Little Endian\n",
       "(0002, 0012) Implementation Class UID            UI: 1.2.40.0.13.1.1.1\n",
       "(0002, 0013) Implementation Version Name         SH: 'dcm4che-1.4-JP'\n",
       "-------------------------------------------------\n",
       "(0008, 0005) Specific Character Set              CS: 'ISO_IR 100'\n",
       "(0008, 0008) Image Type                          CS: ['ORIGINAL', 'PRIMARY', 'OTHER']\n",
       "(0008, 0016) SOP Class UID                       UI: MR Image Storage\n",
       "(0008, 0018) SOP Instance UID                    UI: 1.2.826.0.1.3680043.10.474.410735.10\n",
       "(0008, 0020) Study Date                          DA: '20130810'\n",
       "(0008, 0021) Series Date                         DA: '20130810'\n",
       "(0008, 0022) Acquisition Date                    DA: '20130810'\n",
       "(0008, 0023) Content Date                        DA: '20130810'\n",
       "(0008, 0030) Study Time                          TM: '080848'\n",
       "(0008, 0031) Series Time                         TM: '081832'\n",
       "(0008, 0032) Acquisition Time                    TM: '081832'\n",
       "(0008, 0033) Content Time                        TM: '081832'\n",
       "(0008, 0050) Accession Number                    SH: '2'\n",
       "(0008, 0060) Modality                            CS: 'MR'\n",
       "(0008, 0070) Manufacturer                        LO: 'GE MEDICAL SYSTEMS'\n",
       "(0008, 1030) Study Description                   LO: 'IRM prostate'\n",
       "(0008, 103e) Series Description                  LO: 'Ax T2 strict'\n",
       "(0008, 1090) Manufacturer's Model Name           LO: 'DISCOVERY MR750'\n",
       "(0010, 0010) Patient's Name                      PN: '410735-000002'\n",
       "(0010, 0020) Patient ID                          LO: '410735-000002'\n",
       "(0010, 0040) Patient's Sex                       CS: 'M'\n",
       "(0010, 1010) Patient's Age                       AS: '060Y'\n",
       "(0010, 1030) Patient's Weight                    DS: '93.0'\n",
       "(0012, 0063) De-identification Method            LO: 'RSNA Covid-19 Dataset Default'\n",
       "(0012, 0064)  De-identification Method Code Sequence  3 item(s) ---- \n",
       "   (0008, 0100) Code Value                          SH: '113100'\n",
       "   (0008, 0102) Coding Scheme Designator            SH: 'DCM'\n",
       "   (0008, 0104) Code Meaning                        LO: 'Basic Application Confidentiality Profile'\n",
       "   ---------\n",
       "   (0008, 0100) Code Value                          SH: '113107'\n",
       "   (0008, 0102) Coding Scheme Designator            SH: 'DCM'\n",
       "   (0008, 0104) Code Meaning                        LO: 'Retain Longitudinal Temporal Information Modified Dates Option'\n",
       "   ---------\n",
       "   (0008, 0100) Code Value                          SH: '113108'\n",
       "   (0008, 0102) Coding Scheme Designator            SH: 'DCM'\n",
       "   (0008, 0104) Code Meaning                        LO: 'Retain Patient Characteristics Option'\n",
       "   ---------\n",
       "(0013, 0010) Private Creator                     LO: 'CTP'\n",
       "(0013, 1010) Private tag data                    LO: 'MIDRC-RICORD'\n",
       "(0013, 1011) Private tag data                    LO: 'MIDRC-RICORD'\n",
       "(0013, 1012) Private tag data                    LO: '410735'\n",
       "(0013, 1013) Private tag data                    LO: '410735'\n",
       "(0018, 0015) Body Part Examined                  CS: 'PELVIS'\n",
       "(0018, 0020) Scanning Sequence                   CS: 'SE'\n",
       "(0018, 0021) Sequence Variant                    CS: ['SK', 'OSP']\n",
       "(0018, 0022) Scan Options                        CS: ['FAST_GEMS', 'FC_SLICE_AX_GEMS', 'FC', 'NPW', 'EDR_GEMS', 'TRF_GEMS', 'FILTERED_GEMS', 'ACC_GEMS', 'FSA_GEMS']\n",
       "(0018, 0023) MR Acquisition Type                 CS: '2D'\n",
       "(0018, 0025) Angio Flag                          CS: 'N'\n",
       "(0018, 0050) Slice Thickness                     DS: '3.0'\n",
       "(0018, 0080) Repetition Time                     DS: '7842.0'\n",
       "(0018, 0081) Echo Time                           DS: '119.76'\n",
       "(0018, 0083) Number of Averages                  DS: '2.0'\n",
       "(0018, 0084) Imaging Frequency                   DS: '127.752471'\n",
       "(0018, 0085) Imaged Nucleus                      SH: '1H'\n",
       "(0018, 0086) Echo Number(s)                      IS: '1'\n",
       "(0018, 0087) Magnetic Field Strength             DS: '3.0'\n",
       "(0018, 0088) Spacing Between Slices              DS: '3.3'\n",
       "(0018, 0091) Echo Train Length                   IS: '28'\n",
       "(0018, 0093) Percent Sampling                    DS: '100.0'\n",
       "(0018, 0094) Percent Phase Field of View         DS: '100.0'\n",
       "(0018, 0095) Pixel Bandwidth                     DS: '195.312'\n",
       "(0018, 1020) Software Versions                   LO: ['27', 'LX', 'MR Software release:DV26.0_R02_1810.b']\n",
       "(0018, 1080) Beat Rejection Flag                 CS: 'Y'\n",
       "(0018, 1088) Heart Rate                          IS: '0'\n",
       "(0018, 1090) Cardiac Number of Images            IS: '0'\n",
       "(0018, 1094) Trigger Window                      IS: '0'\n",
       "(0018, 1100) Reconstruction Diameter             DS: '200.0'\n",
       "(0018, 1250) Receive Coil Name                   SH: '32Ch Torso Lower'\n",
       "(0018, 1310) Acquisition Matrix                  US: [0, 300, 300, 0]\n",
       "(0018, 1312) In-plane Phase Encoding Direction   CS: 'ROW'\n",
       "(0018, 1314) Flip Angle                          DS: '111.0'\n",
       "(0018, 1315) Variable Flip Angle Flag            CS: 'N'\n",
       "(0018, 1316) SAR                                 DS: '2.7564'\n",
       "(0018, 5100) Patient Position                    CS: 'FFS'\n",
       "(0020, 000d) Study Instance UID                  UI: 1.2.826.0.1.3680043.10.474.410735.5\n",
       "(0020, 000e) Series Instance UID                 UI: 1.2.826.0.1.3680043.10.474.410735.6\n",
       "(0020, 0010) Study ID                            SH: ''\n",
       "(0020, 0011) Series Number                       IS: '6'\n",
       "(0020, 0012) Acquisition Number                  IS: '1'\n",
       "(0020, 0013) Instance Number                     IS: '12'\n",
       "(0020, 0032) Image Position (Patient)            DS: [-100.448, -106.662, -146.065]\n",
       "(0020, 0037) Image Orientation (Patient)         DS: [0.99999, -0.00000, -0.00487, -0.00000, 1.00000, 0.00000]\n",
       "(0020, 0052) Frame of Reference UID              UI: 1.2.826.0.1.3680043.10.474.410735.7\n",
       "(0020, 0060) Laterality                          CS: ''\n",
       "(0020, 1002) Images in Acquisition               IS: '34'\n",
       "(0020, 1040) Position Reference Indicator        LO: ''\n",
       "(0020, 1041) Slice Location                      DS: '-146.5510712'\n",
       "(0020, 9056) Stack ID                            SH: '1'\n",
       "(0020, 9057) In-Stack Position Number            UL: 12\n",
       "(0028, 0002) Samples per Pixel                   US: 1\n",
       "(0028, 0004) Photometric Interpretation          CS: 'MONOCHROME2'\n",
       "(0028, 0010) Rows                                US: 512\n",
       "(0028, 0011) Columns                             US: 512\n",
       "(0028, 0030) Pixel Spacing                       DS: [0.3906, 0.3906]\n",
       "(0028, 0100) Bits Allocated                      US: 16\n",
       "(0028, 0101) Bits Stored                         US: 16\n",
       "(0028, 0102) High Bit                            US: 15\n",
       "(0028, 0103) Pixel Representation                US: 1\n",
       "(0028, 0106) Smallest Image Pixel Value          US: 0\n",
       "(0028, 0107) Largest Image Pixel Value           US: 7530\n",
       "(0028, 1050) Window Center                       DS: '3765.0'\n",
       "(0028, 1051) Window Width                        DS: '7530.0'\n",
       "(7fe0, 0010) Pixel Data                          OW: Array of 524288 elements"
      ]
     },
     "execution_count": 5,
     "metadata": {},
     "output_type": "execute_result"
    }
   ],
   "source": [
    "#print the meta data of the dicom\n",
    "ds"
   ]
  },
  {
   "cell_type": "code",
   "execution_count": null,
   "id": "0aba186e",
   "metadata": {},
   "outputs": [],
   "source": [
    "#print the value of a tag\n",
    "print(ds.AccessionNumber)\n",
    "\n",
    "#we can change the value for a tag\n",
    "ds.AccessionNumber = 3\n",
    "print(ds.AccessionNumber)\n",
    "ds.AccessionNumber = 2\n",
    "print(ds.AccessionNumber)"
   ]
  },
  {
   "cell_type": "code",
   "execution_count": null,
   "id": "b38981b0",
   "metadata": {},
   "outputs": [],
   "source": [
    "#show the image dicom\n",
    "plt.imshow(ds.pixel_array, cmap=plt.cm.bone) "
   ]
  },
  {
   "cell_type": "code",
   "execution_count": null,
   "id": "52bbe549",
   "metadata": {},
   "outputs": [],
   "source": [
    "print(ds.pixel_array)\n",
    "print(ds.pixel_array.shape)"
   ]
  },
  {
   "cell_type": "markdown",
   "id": "754113d7",
   "metadata": {},
   "source": [
    "# Mathplot lib test contour plot"
   ]
  },
  {
   "cell_type": "code",
   "execution_count": 2,
   "id": "340d4736",
   "metadata": {},
   "outputs": [],
   "source": [
    "x = [0,0,2,1,1]\n",
    "y = [0,1,2,1,0]"
   ]
  },
  {
   "cell_type": "code",
   "execution_count": 3,
   "id": "fc5974c5",
   "metadata": {},
   "outputs": [
    {
     "data": {
      "image/png": "[encoded data removed]",
      "text/plain": [
       "<Figure size 432x288 with 1 Axes>"
      ]
     },
     "metadata": {
      "needs_background": "light"
     },
     "output_type": "display_data"
    }
   ],
   "source": [
    "# plt.figure(figsize=(5,5))\n",
    "fig, ax = plt.subplots()\n",
    "# ax.axis('equal')\n",
    "ax.fill(x, y, facecolor='white')\n",
    "ax.set_facecolor('black')\n",
    "plt.show()"
   ]
  },
  {
   "cell_type": "code",
   "execution_count": 4,
   "id": "100097ef",
   "metadata": {},
   "outputs": [],
   "source": [
    "fig.canvas.draw()"
   ]
  },
  {
   "cell_type": "code",
   "execution_count": null,
   "id": "3204de8a",
   "metadata": {},
   "outputs": [],
   "source": []
  }
 ],
 "metadata": {
  "kernelspec": {
   "display_name": "Python 3 (ipykernel)",
   "language": "python",
   "name": "python3"
  },
  "language_info": {
   "codemirror_mode": {
    "name": "ipython",
    "version": 3
   },
   "file_extension": ".py",
   "mimetype": "text/x-python",
   "name": "python",
   "nbconvert_exporter": "python",
   "pygments_lexer": "ipython3",
   "version": "3.8.10"
  }
 },
 "nbformat": 4,
 "nbformat_minor": 5
}
